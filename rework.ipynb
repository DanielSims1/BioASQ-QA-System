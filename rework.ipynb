{
 "cells": [
  {
   "cell_type": "code",
   "execution_count": 308,
   "metadata": {},
   "outputs": [],
   "source": [
    "from lxml import etree as et\n",
    "from sklearn.metrics import classification_report,f1_score,average_precision_score, label_ranking_average_precision_score\n",
    "from sklearn.preprocessing import MultiLabelBinarizer\n",
    "import numpy as np\n",
    "import pandas as pd\n",
    "import json\n",
    "import csv\n",
    "\n",
    "from utils import *\n",
    "\n",
    "def parse_XML(xml_file): \n",
    "    df_cols = ['id','human_concepts','documents','full_abstracts','titles','type']\n",
    "    xtree = et.parse(xml_file)\n",
    "    xroot = xtree.getroot()\n",
    "    rows = []\n",
    "    for question in xroot: \n",
    "        id = question.attrib.get(\"id\")\n",
    "        ir = question.find(\"IR\")\n",
    "        qp = question.find(\"QP\")\n",
    "        concepts = [e.text for e in qp.findall(\"Entities\")]\n",
    "        qa_type = qp.find(\"Type\").text\n",
    "        titles =  [e.find(\"Title\").text for e in ir.findall(\"Result\")]\n",
    "        abstracts =  [e.find(\"Abstract\").text for e in ir.findall(\"Result\")]\n",
    "        pmids = [e.get(\"PMID\") for e in ir.findall(\"Result\")]\n",
    "        rows.append({\"id\":id,\"human_concepts\":concepts,\"documents\":pmids,\"full_abstracts\":abstracts,\"titles\":titles,\"type\":qa_type})\n",
    "    out_df = pd.DataFrame(rows, columns=df_cols)\n",
    "        \n",
    "    return out_df"
   ]
  },
  {
   "cell_type": "code",
   "execution_count": 285,
   "metadata": {},
   "outputs": [],
   "source": [
    "def add_answers(df, answers):\n",
    "    dfs = []\n",
    "    for answer in answers:\n",
    "        with open(answer,'r') as f:\n",
    "            d = json.loads(f.read())\n",
    "            qa_df = pd.json_normalize(d,record_path=\"questions\")\n",
    "            just_answers_df = qa_df.loc[:,['id','exact_answer']].copy()\n",
    "            dfs.append(just_answers_df)\n",
    "    main_df = pd.concat(dfs)\n",
    "    main_df['id'] = main_df['id'].apply(trim_big)\n",
    "    joined_df = df.merge(main_df,on ='id',how='outer')\n",
    "    return joined_df\n",
    "\n",
    "def trim_big(id):\n",
    "    if len(id) == 24:\n",
    "        id = id[0:20]\n",
    "    return id\n",
    "\n",
    "def get_pmid(docs):\n",
    "    documents = [\n",
    "        document.split(\"/\")[-1] for document in docs\n",
    "    ]\n",
    "    return documents"
   ]
  },
  {
   "cell_type": "code",
   "execution_count": null,
   "metadata": {},
   "outputs": [],
   "source": [
    "#Takes in two numpy arrays\n",
    "def get_f1_score(gold, gen):\n",
    "    print(\"\")"
   ]
  },
  {
   "cell_type": "code",
   "execution_count": 286,
   "metadata": {},
   "outputs": [],
   "source": [
    "golden_dataset_path = \"testing_datasets/augmented_concepts_abstracts_titles.json\"\n",
    "generated_qu = \"tmp/ir/output/bioasq_qa.xml\"\n",
    "with open(golden_dataset_path,'r') as f:\n",
    "    gold_data = json.loads(f.read())\n",
    "# flatten data\n",
    "gold_df = pd.json_normalize(gold_data,record_path=\"questions\")\n",
    "gold_df['id'] = gold_df['id'].apply(trim_big)\n",
    "gold_df['documents'] = gold_df['documents'].apply(get_pmid)\n"
   ]
  },
  {
   "cell_type": "code",
   "execution_count": 287,
   "metadata": {},
   "outputs": [],
   "source": [
    "gen_df = parse_XML(generated_qu)\n",
    "gen_df['id'] = gen_df['id'].apply(trim_big)\n",
    "answers = [\"tmp/qa/yesno/BioASQform_BioASQ-answer.json\",\"tmp/qa/factoid/BioASQform_BioASQ-answer.json\",\"tmp/qa/list/BioASQform_BioASQ-answer.json\"]\n",
    "gen_df = add_answers(gen_df,answers)"
   ]
  },
  {
   "cell_type": "markdown",
   "metadata": {},
   "source": [
    "Average QU concepts f1, precision, recall score:\n",
    "(0.1727500898601726, 0.16211627033544848, 0.2278786552576016)\n",
    "\n",
    "Number of question's with type correctly predicted\n",
    "2983/3243\n",
    "\n",
    "Average IR PMID f1, precision, recall score:\n",
    "(0.024398537596114104, 0.045651429549734605, 0.022827095765177285)\n",
    "\n",
    "Average F1,precision,recall scores for Yes Questions\n",
    "(0, 0, 0)\n",
    "\n",
    "Average F1,precision,recall scores for No Questions\n",
    "(0.15430861723446893, 0.15430861723446893, 0.15430861723446893)\n",
    "\n",
    "Average F1,precision,recall scores for ALL Yes/No Questions\n",
    "(0.07715430861723446, 0.07715430861723446, 0.07715430861723446)\n",
    "\n",
    "Strict Accuracy for factoid questions:\n",
    "0.0\n",
    "\n",
    "Lenient Accuracy for factoid questions:\n",
    "0.0\n",
    "\n",
    "Average MRR for factoid questions:\n",
    "0.0\n",
    "\n",
    "Average F1,precision,recall scores for ALL List Questions\n",
    "(0.0, 0.0, 0.0)"
   ]
  },
  {
   "cell_type": "code",
   "execution_count": 338,
   "metadata": {},
   "outputs": [
    {
     "name": "stdout",
     "output_type": "stream",
     "text": [
      "704\n",
      "177\n",
      "<class 'numpy.ndarray'>\n",
      "696\n",
      "176\n"
     ]
    }
   ],
   "source": [
    "gen_df_trim = gen_df.drop_duplicates(subset=\"id\")\n",
    "gold_df_trim = gold_df.drop_duplicates(subset='id')\n",
    "\n",
    "yes_no_gold_df = gold_df[gold_df['type'] == 'yesno']\n",
    "yes_gold_df = yes_no_gold_df[yes_no_gold_df['exact_answer'] == 'yes']\n",
    "no_gold_df = yes_no_gold_df[yes_no_gold_df['exact_answer'] == 'no']\n",
    "print(len(yes_gold_df))\n",
    "print(len(no_gold_df))\n",
    "\n",
    "print (yes_gold_df.id.unique())\n",
    "# get the matching generated yes and no based on ids of gold\n",
    "should_be_yes_gen_df = gen_df[gen_df.id.isin(yes_gold_df.id.unique())]\n",
    "should_be_no_gen_df = gen_df[gen_df.id.isin(no_gold_df.id.unique())]\n",
    "\n",
    "# print (len(should_be_yes_gen_df))\n",
    "should_be_yes_gen_df = should_be_yes_gen_df.drop_duplicates(subset='id')\n",
    "should_be_no_gen_df = should_be_no_gen_df.drop_duplicates(subset='id')\n",
    "\n",
    "print (len(should_be_yes_gen_df))\n",
    "print (len(should_be_no_gen_df))\n",
    "\n",
    "\n",
    "factoid_gold_df = gold_df[gold_df['type'] == 'factoid']\n",
    "list_gold_df = gold_df[gold_df['type'] == 'list']\n",
    "\n",
    "\n",
    "# Get classification reports\n",
    "type_report = classification_report(gold_df_trim['type'].to_numpy(),gen_df_trim['type'].to_numpy(),output_dict=True)\n",
    "\n",
    "# print(type_report)\n"
   ]
  },
  {
   "cell_type": "code",
   "execution_count": 322,
   "metadata": {},
   "outputs": [
    {
     "data": {
      "text/plain": [
       "False"
      ]
     },
     "execution_count": 322,
     "metadata": {},
     "output_type": "execute_result"
    }
   ],
   "source": [
    "'i' in yes_gold_df.id.unique()"
   ]
  },
  {
   "cell_type": "code",
   "execution_count": null,
   "metadata": {},
   "outputs": [],
   "source": [
    "gen_df_trim = gen_df.drop_duplicates(subset=\"id\")\n",
    "gold_df_trim = gold_df.drop_duplicates(subset='id')\n",
    "\n",
    "yesn_no_gold_df = gold_df[gold_df['type'] == 'yesno']\n",
    "factoid_gold_df = gold_df[gold_df['type'] == 'factoid']\n",
    "list_gold_df = gold_df[gold_df['type'] == 'list']\n"
   ]
  }
 ],
 "metadata": {
  "interpreter": {
   "hash": "80370dbcfc3023cdbcb71d202b3d45870b2ec245031d0411f339cfb8d50c0055"
  },
  "kernelspec": {
   "display_name": "Python 3.7.9 64-bit ('3.7.9': pyenv)",
   "language": "python",
   "name": "python3"
  },
  "language_info": {
   "codemirror_mode": {
    "name": "ipython",
    "version": 3
   },
   "file_extension": ".py",
   "mimetype": "text/x-python",
   "name": "python",
   "nbconvert_exporter": "python",
   "pygments_lexer": "ipython3",
   "version": "3.7.9"
  },
  "orig_nbformat": 4
 },
 "nbformat": 4,
 "nbformat_minor": 2
}
